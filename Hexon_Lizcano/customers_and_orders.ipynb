{
  "cells": [
    {
      "cell_type": "markdown",
      "metadata": {
        "id": "piiX_CRNFYUi"
      },
      "source": [
        "# Technical Challenge ! Custiomers and Orders - The lifeblood of any business!\n",
        "\n",
        "This notebook depends on two data files: customers.scv and orders.csv. These files are hosted in the cloud (or Github), so for simplicity, we are providing you with the code to download and save the two files in a folder called 'sample_data' which lives within this notebook session (not on your local computer nor Google Drive).\n",
        "\n",
        "![sample_data folder in notebook session](https://raw.githubusercontent.com/anyoneai/notebooks/main/customers_and_orders/images/sample_data_folder.png)\n",
        "\n",
        "Please execute the first code snippet before moving to the rest of the exercise as this code will import the data from the files for you to be able to execute the rest of the exercise.\n",
        "\n",
        "Remember as we said in the previous lecture, you have to save this notebook into your Google Drive by going to menu File/Save a Copy In Drive, or clicking in the button \"Copy to Drive\". This way, you will not lose any work you've done and the file will persist with your latest changes in your Google Drive. Also we recommend you to rename your .ipynb in your Google Drive, so you can easily find it in the future."
      ]
    },
    {
      "cell_type": "code",
      "execution_count": 1,
      "metadata": {
        "colab": {
          "base_uri": "https://localhost:8080/"
        },
        "id": "MWpVO242FQHC",
        "outputId": "01a1fc69-6af0-48d7-9a1e-22a57ccf9347"
      },
      "outputs": [
        {
          "output_type": "stream",
          "name": "stdout",
          "text": [
            "Customers and orders CSV files have been added './sample_data'\n"
          ]
        }
      ],
      "source": [
        "import requests\n",
        "\n",
        "def import_data_files():\n",
        "  r = requests.get('https://raw.githubusercontent.com/anyoneai/notebooks/main/customers_and_orders/data/customers.csv')\n",
        "  with open('./sample_data/customers.csv', 'wb') as f:\n",
        "    f.write(r.content)\n",
        "\n",
        "  r = requests.get('https://raw.githubusercontent.com/anyoneai/notebooks/main/customers_and_orders/data/orders.csv')\n",
        "  with open('./sample_data/orders.csv', 'wb') as f:\n",
        "    f.write(r.content)\n",
        "\n",
        "import_data_files()\n",
        "print(\"Customers and orders CSV files have been added './sample_data'\")"
      ]
    },
    {
      "cell_type": "markdown",
      "metadata": {
        "id": "JQAduY-RWKyB"
      },
      "source": [
        "# Exercise 1: Processing Customers data (difficulty medium)\n",
        "\n",
        "The sample customer data in 'customers.csv' file has just 5 columns: CustomerId, First Name, Last Name, City and State\n",
        "\n",
        "![Data sample](https://raw.githubusercontent.com/anyoneai/notebooks/main/customers_and_orders/images/customers.png)\n",
        "\n",
        "We strongly recommend that you complete from the [Prep Course: Intro to Python](https://colab.research.google.com/github/anyoneai/notebooks/blob/main/python3_crash_course.ipynb) the following section:\n",
        "- Section 7: File I/O (to understand how to read CSV file)\n",
        "- Section 6: For Loop (to navigate the contents of the CSV file)\n",
        "- Section 5: Tuples, Lists, and Dictionaries (to manipulate the data of the CSV file)\n",
        "\n",
        "With this, we hope you can complete this exercise successfully. Although if you want to solve this with libraries or any other way, you are welcome to do it your way.\n",
        "\n",
        "*Hint:* We advise you to take a look at the data before you start.\n",
        "**if you want to manually take a look at the data before you start, please see the content of the data [here](https://github.com/anyoneai/notebooks/blob/main/customers_and_orders/data/customers.csv).\n",
        "\n",
        "*Hint*: There are many ways to do this exercise you can do your own, although here's some help. You can solve this exercise reading and parsing CSV files, structuring data into dictionaries, and using for loops to navigate the contents\n",
        "\n",
        "*Hint*: Also, keep in mind that data might not be clean and you might have to figure out how to deal with that data from the code, without having to modify the data source.\n",
        "\n",
        "Below are the 5 questions you'll have to answer to pass the evaluation:"
      ]
    },
    {
      "cell_type": "markdown",
      "metadata": {
        "id": "kJq7S8sBfbOW"
      },
      "source": [
        "**Question 1:** How many customers are in the file?\n",
        "(as help, we have added some comments and starter code to help you structure the solution)"
      ]
    },
    {
      "cell_type": "code",
      "execution_count": 7,
      "metadata": {
        "colab": {
          "base_uri": "https://localhost:8080/"
        },
        "id": "oMnUFBFb2RUb",
        "outputId": "147c80d7-bdc1-4720-af82-0678c2e0c18b"
      },
      "outputs": [
        {
          "output_type": "stream",
          "name": "stdout",
          "text": [
            "El número de clientes es: 603\n"
          ]
        }
      ],
      "source": [
        "from os.path import exists\n",
        "import csv\n",
        "\n",
        "# check if file can be found and open the file\n",
        "datafile = \"./sample_data/customers.csv\"\n",
        "if not exists(datafile):\n",
        "  raise SystemExit(\"You should run the first code cell and download the dataset files!\")\n",
        "\n",
        "# customers file is in the sample_data folder and can be opened.\n",
        "# Using csv reader is one way of dealing with the file\n",
        "# but it's up to you how you want to proceed\n",
        "try:\n",
        "    with open(datafile, 'r') as fl:\n",
        "        row_count = sum(1 for row in fl)\n",
        "        print(f\"El número de clientes es: {row_count}\")\n",
        "except FileNotFoundError:\n",
        "    print(f\"No se pudo encontrar el archivo: {datafile}\")\n",
        "except Exception as e:\n",
        "    print(f\"Ocurrió un error al leer el archivo: {e}\")\n"
      ]
    },
    {
      "cell_type": "markdown",
      "metadata": {
        "id": "uffBnNgz_570"
      },
      "source": [
        "**Question 2:** In how many different states do the customers live in?"
      ]
    },
    {
      "cell_type": "code",
      "execution_count": 16,
      "metadata": {
        "id": "Bi_yid0sMe3-",
        "colab": {
          "base_uri": "https://localhost:8080/"
        },
        "outputId": "61945e65-897b-4390-f2ef-0b824f6771e6"
      },
      "outputs": [
        {
          "output_type": "stream",
          "name": "stdout",
          "text": [
            "the customers live in 14 State diferents.\n"
          ]
        }
      ],
      "source": [
        "import pandas as pd\n",
        "from os.path import exists\n",
        "import csv\n",
        "\n",
        "# check if file can be found and open the file\n",
        "datafile = \"./sample_data/customers.csv\"\n",
        "if not exists(datafile):\n",
        "    raise SystemExit(\"The file does not exist!\")\n",
        "\n",
        "try:\n",
        "    df = pd.read_csv(datafile)\n",
        "    if 'State' not in df.columns:\n",
        "        print(\"The CSV file must contain the column 'State'.\")\n",
        "    else:\n",
        "        df['State'] = df['State'].str.upper().str.strip()\n",
        "        num_State_diferents = df['State'].nunique()\n",
        "        print(f\"the customers live in {num_State_diferents} State diferents.\")\n",
        "except FileNotFoundError:\n",
        "    print(f\"The file could not be found: {datafile}\")\n",
        "except Exception as e:\n",
        "    print(f\"An error occurred while reading the file: {e}\")\n",
        "# open file and init vars\n",
        "\n",
        "\n",
        "# evaluate the contents of the file"
      ]
    },
    {
      "cell_type": "markdown",
      "metadata": {
        "id": "DC59SZYiMfNY"
      },
      "source": [
        "**Question 3** What is the state with most customers?"
      ]
    },
    {
      "cell_type": "code",
      "execution_count": 18,
      "metadata": {
        "id": "tfGU3w-OMhA9",
        "colab": {
          "base_uri": "https://localhost:8080/"
        },
        "outputId": "fa0f3bad-1256-4147-b3d3-a655b82f5c5f"
      },
      "outputs": [
        {
          "output_type": "stream",
          "name": "stdout",
          "text": [
            "the State whit most customer is : CA whit 569 customers.\n"
          ]
        }
      ],
      "source": [
        "import pandas as pd\n",
        "from os.path import exists\n",
        "\n",
        "datafile = \"./sample_data/customers.csv\"\n",
        "if not exists(datafile):\n",
        "    raise SystemExit(\"The file does not exist!\")\n",
        "\n",
        "try:\n",
        "    df = pd.read_csv(datafile)\n",
        "\n",
        "    if 'State' not in df.columns:\n",
        "        print(\"The CSV file must contain the column 'State'.\")\n",
        "    else:\n",
        "\n",
        "        df['State'] = df['State'].str.upper().str.strip()\n",
        "\n",
        "        # count to frequency to State\n",
        "        state_counts = df['State'].value_counts()\n",
        "\n",
        "        # result to coutn and funtion\n",
        "        most_common_state = state_counts.index[0]\n",
        "        number_of_customers = state_counts.iloc[0]\n",
        "\n",
        "\n",
        "        print(f\"the State whit most customer is : {most_common_state} whit {number_of_customers} customers.\")\n",
        "\n",
        "except FileNotFoundError:\n",
        "    print(f\"The file could not be found: {datafile}\")\n",
        "except Exception as e:\n",
        "    print(f\"An error occurred while reading the file: {e}\")\n",
        "# open file and init vars\n",
        "# evaluate the contents of the file"
      ]
    },
    {
      "cell_type": "markdown",
      "metadata": {
        "id": "7mcM6cUAMhLB"
      },
      "source": [
        "**Question 4** What is the state with the least customers?"
      ]
    },
    {
      "cell_type": "code",
      "execution_count": 21,
      "metadata": {
        "id": "8T0Ka2RqMi3P",
        "colab": {
          "base_uri": "https://localhost:8080/"
        },
        "outputId": "9c9b31e1-e1e2-4988-b7cd-b650bea6c09f"
      },
      "outputs": [
        {
          "output_type": "stream",
          "name": "stdout",
          "text": [
            "All occurrences of the states with the fewest customers are: ['WA', 'NH', 'ID', 'OR', 'MA', 'IN'].\n",
            "All done!\n"
          ]
        }
      ],
      "source": [
        "from os.path import exists\n",
        "from collections import Counter\n",
        "import csv\n",
        "\n",
        "datafile = \"./sample_data/customers.csv\"\n",
        "if not exists(datafile):\n",
        "    raise SystemExit(\"You should run the first code cell and download the dataset files!\")\n",
        "\n",
        "# store all the states in a row and then classify them\n",
        "state = []\n",
        "with open(datafile, 'r') as fl:\n",
        "    csvreader = csv.reader(fl, delimiter=',')\n",
        "    for row in csvreader:\n",
        "        state.append(row[4])\n",
        "\n",
        "# data correction\n",
        "del state[0]\n",
        "state = [data.upper() for data in state]\n",
        "state = [data.strip() for data in state]\n",
        "\n",
        "# data classification and counting\n",
        "states_count = Counter(state)\n",
        "state_least_common = min(states_count.values())\n",
        "\n",
        "least_frequent_states_repeated = [s for s in state if states_count[s] == state_least_common]\n",
        "\n",
        "print(\"All occurrences of the states with the fewest customers are: %s.\" % least_frequent_states_repeated)\n",
        "print(\"All done!\")"
      ]
    },
    {
      "cell_type": "markdown",
      "metadata": {
        "id": "h6fIy7hXHF6A"
      },
      "source": [
        "**Question 5:** What is the most common last name?"
      ]
    },
    {
      "cell_type": "code",
      "execution_count": 28,
      "metadata": {
        "id": "k8M1DmA75Km7",
        "colab": {
          "base_uri": "https://localhost:8080/"
        },
        "outputId": "a401f1b4-6676-4cf6-bca9-63a2e2356d1a"
      },
      "outputs": [
        {
          "output_type": "stream",
          "name": "stdout",
          "text": [
            "the lastname most common is : SMITH \n"
          ]
        }
      ],
      "source": [
        "import pandas as pd\n",
        "from os.path import exists\n",
        "\n",
        "datafile = \"./sample_data/customers.csv\"\n",
        "if not exists(datafile):\n",
        "    raise SystemExit(\"The file does not exist!\")\n",
        "\n",
        "try:\n",
        "    df = pd.read_csv(datafile)\n",
        "\n",
        "    if 'LastName' not in df.columns:\n",
        "        print(\"The CSV file must contain the column 'LastName'.\")\n",
        "    else:\n",
        "\n",
        "        df['LastName'] = df['LastName'].str.upper().str.strip()\n",
        "\n",
        "        # count to frequency to State\n",
        "        Last_Name_counts = df['LastName'].value_counts()\n",
        "\n",
        "        # result to coutn and funtion\n",
        "        most_common_last_name = Last_Name_counts.index[0]\n",
        "        number_of_occurrences = Last_Name_counts.iloc[0]\n",
        "\n",
        "        print(f\"the lastname most common is : {most_common_last_name} \")\n",
        "\n",
        "except FileNotFoundError:\n",
        "    print(f\"The file could not be found: {datafile}\")\n",
        "except Exception as e:\n",
        "    print(f\"An error occurred while reading the file: {e}\")\n",
        "# open file and init vars\n",
        "# evaluate the contents of the file"
      ]
    },
    {
      "cell_type": "markdown",
      "metadata": {
        "id": "YPRma1t9NoFk"
      },
      "source": [
        "# Exercise 2: Processing Orders data (difficulty high)\n",
        "\n",
        "The second sample files contains orders placed by customers from the first file. Be careful, this file has many rows and you most likely should not print the contents of the whole file.\n",
        "\n",
        "The file contains the following columns: CustomerID, OrderID, Date, OrderTotal, ProductName, Price\n",
        "\n",
        "![Data sample](https://raw.githubusercontent.com/anyoneai/notebooks/main/customers_and_orders/images/orders.png)\n",
        "\n",
        "*Hint:* We advise you to take a look at the data before you start.\n",
        "**if you want to manually take a look at the data before you start, please see the content of the data [here](https://raw.githubusercontent.com/anyoneai/notebooks/main/customers_and_orders/data/orders.csv).\n",
        "\n",
        "*Hint*: There are many ways to do this exercise you can do your own, although here's some help. You can solve this exercise reading and parsing CSV files, structuring data into dictionaries, and using for loops to navigate the contents\n",
        "\n",
        "*Hint*: Also, the data is not clean and you will have to figure out how to deal with that data from the code, without having to modify the data source.\n",
        "\n",
        "\n",
        "\n",
        "**Question #1:** How many unique orders are in the orders.csv file?\n",
        "\n",
        "**Question #2:** What is the average number of items per order (rounded to two decimal places)?\n",
        "\n",
        "**Question #3:** What is the highest number of items per order?\n",
        "\n",
        "**Question #4:** What is the number of orders placed in October 2021?\n",
        "\n",
        "**Question #5:** Which customer spent the most amount of money in 2021?\n",
        "\n",
        "**Question #6:** Historically, what is the best month for sales?\n",
        "\n",
        "Once you get your answers, remember to go back to the course and introduce them in the multiple choice quiz"
      ]
    },
    {
      "cell_type": "code",
      "execution_count": 104,
      "metadata": {
        "id": "8ipJTrfs5QVM",
        "colab": {
          "base_uri": "https://localhost:8080/"
        },
        "outputId": "86c4ee83-5309-4890-af02-939530230023"
      },
      "outputs": [
        {
          "output_type": "stream",
          "name": "stdout",
          "text": [
            "Answer #1: The number of unique orders is: 16672\n",
            "Answer #2:The average number of items per order is: 1.76\n",
            "Answer #3: The largest number of items in a single order is: 35\n",
            "Answer #4 (unique orders): The total number of unique orders in October 2021 was 267.\n",
            "Anwers #5: The customer who spent the most money in 2021 was the customer with ID '5100595' with a total of $363844460.00\n",
            "Anwers #6: The best month in sales was2022-01 with a total of $5220117335.00\n"
          ]
        }
      ],
      "source": [
        "# open and evaluate orders.csv\n",
        "from os.path import exists\n",
        "from collections import Counter\n",
        "from collections import defaultdict\n",
        "import pandas as pd\n",
        "import datetime\n",
        "import csv\n",
        "import requests\n",
        "\n",
        "def import_data_files():\n",
        "\n",
        "  r = requests.get('https://raw.githubusercontent.com/anyoneai/notebooks/main/customers_and_orders/data/orders.csv')\n",
        "  with open('./sample_data/orders.csv', 'wb') as f:\n",
        "    f.write(r.content)\n",
        "\n",
        "import_data_files()\n",
        "#print(\"Customers and orders CSV files have been added './sample_data'\")\n",
        "\n",
        "\n",
        "# store all the data in rows and then classify them\n",
        "try:\n",
        "    # read in pandas\n",
        "    df = pd.read_csv(datafile)\n",
        "\n",
        "\n",
        "    # --- access the first elements ---\n",
        "    if not df.empty:\n",
        "        primer_customer_id = df['CustomerID'].iloc[0] if 'CustomerID' in df.columns else None\n",
        "        primer_order_id = df['OrderID'].iloc[0] if 'OrderID' in df.columns else None\n",
        "        primer_date_str = df['Date'].iloc[0] if 'Date' in df.columns else None\n",
        "        primer_order_total = df['OrderTotal'].iloc[0] if 'OrderTotal' in df.columns else None\n",
        "        primer_product_name = df['ProductName'].iloc[0] if 'ProductName' in df.columns else None\n",
        "        primer_price = df['Price'].iloc[0] if 'Price' in df.columns else None\n",
        "\n",
        "\n",
        "    else:\n",
        "        print(\"The CSV file is empty.\")\n",
        "\n",
        "    # --- Data corretions ---\n",
        "    columns_to_strip = ['CustomerID', 'OrderID', 'Date', 'OrderTotal', 'ProductName', 'Price']\n",
        "    for col in columns_to_strip:\n",
        "        if col in df.columns:\n",
        "            df[col] = df[col].str.strip()\n",
        "\n",
        "    print(df.head())\n",
        "\n",
        "    # --- Convert 'Date' or datetime ---\n",
        "    if 'Date' in df.columns:\n",
        "        df_date_not_empty = df[df['Date'].notna() & (df['Date'] != '')].copy()\n",
        "        date_format = '%Y-%m-%d %H:%M:%S.%f'\n",
        "        df_date_not_empty['Date_mod'] = pd.to_datetime(df_date_not_empty['Date'], format=date_format, errors='coerce')\n",
        "\n",
        "        print(\"\\nDataFrame whit column 'Date_mod' (first rows):\")\n",
        "        print(df_date_not_empty[['Date', 'Date_mod']].head())\n",
        "\n",
        "        date_mod_lista = df_date_not_empty['Date_mod'].dropna().tolist()\n",
        "        print(f\"\\nFirst items on the list Date_mod (object datetime):\")\n",
        "        print(date_mod_lista[:5])\n",
        "    else:\n",
        "        print(\"\\nLa row 'Date'does not exist in DataFrame.\")\n",
        "\n",
        "except FileNotFoundError as e:\n",
        "    print(e)\n",
        "except Exception as e:\n",
        "   pass\n",
        "\n",
        "\n",
        "# data correction\n",
        "\n",
        "# Question #1: How many unique orders are in the orders.csv file?\n",
        "num_unique_orders = df['OrderID'].nunique()\n",
        "print(f\"Answer #1: The number of unique orders is: {num_unique_orders}\")\n",
        "\n",
        "# Question #2: What is the average number of items per order (rounded to two decimal places)?\n",
        "\n",
        "# count the number of items and calculate the average\n",
        "items_per_order = df.groupby('OrderID').size()\n",
        "average_items_per_order = items_per_order.mean()\n",
        "\n",
        "# Round the result to two decimal places\n",
        "rounded_average = round(average_items_per_order, 2)\n",
        "print(f\"Answer #2:The average number of items per order is: {rounded_average}\")\n",
        "\n",
        "# Question #3: What is the highest number of items per order?\n",
        "highest_number_of_items = items_per_order.max() #Fixed: changed from accessing OrderID max to getting max from items_per_order series\n",
        "print(f\"Answer #3: The largest number of items in a single order is: {highest_number_of_items}\")\n",
        "\n",
        "# Question #4: What is the number of orders placed in October 2021?\n",
        "\n",
        "df['Date'] = pd.to_datetime(df['Date'])\n",
        "# specify month and year\n",
        "year_specify = 2021\n",
        "month_specify = 10\n",
        "\n",
        "# filter and get orders by year and month\n",
        "orders_octubre_2021 = df[(df['Date'].dt.year == year_specify) & (df['Date'].dt.month == month_specify)]\n",
        "\n",
        "orders_october_count = len(orders_octubre_2021)\n",
        "\n",
        "\n",
        "# count unique orders\n",
        "if 'OrderID' in df.columns:\n",
        "    unique_orders_october_count = ordenes_octubre_2021['OrderID'].nunique()\n",
        "    print(f\"Answer #4 (unique orders): The total number of unique orders in October 2021 was {unique_orders_october_count}.\")\n",
        "else:\n",
        "    print(\"the column 'OrderID' was not found in the DataFrame.\")\n",
        "\n",
        "\n",
        "# Question #5: Which customer spent the most amount of money in 2021?\n",
        "# groupby  'CustomerID' y add up the total spen\n",
        "\n",
        "df_2021 = df[df['Date'].dt.year == 2021]\n",
        "\n",
        "customer_spending = df_2021.groupby('CustomerID')['OrderID'].sum()\n",
        "\n",
        "# Find the customer who spent the most and the amount spent\n",
        "most_spending_customer = customer_spending.idxmax()\n",
        "most_spent_amount = customer_spending.max()\n",
        "\n",
        "print(f\"Anwers #5: The customer who spent the most money in 2021 was the customer with ID '{most_spending_customer}' with a total of ${most_spent_amount:.2f}\")\n",
        "\n",
        "\n",
        "# Question #6: Historically, what is the best month for sales?\n",
        "\n",
        "#Extract the year and month from the 'Date' column'\n",
        "df['YearMonth'] = df['Date'].dt.to_period('M')\n",
        "\n",
        "# Groupby'YearMonth' y up the total to sales ('OrderID')\n",
        "sales_by_month = df.groupby('YearMonth')['OrderID'].sum()\n",
        "\n",
        "# Find the month with the highest sum of sales\n",
        "best_month = sales_by_month.idxmax()\n",
        "highest_sales = sales_by_month.max()\n",
        "\n",
        "print(f\"Anwers #6: The best month in sales was{best_month} with a total of ${highest_sales:.2f}\")\n"
      ]
    },
    {
      "cell_type": "markdown",
      "metadata": {
        "id": "ie0JW4FAk6Os"
      },
      "source": [
        "# Finished!\n",
        "\n",
        "Hope this was not too difficult and slicing and dicing the datasets was some fun. Now head on back to the course and provide the answers to the questions from this exercise."
      ]
    }
  ],
  "metadata": {
    "colab": {
      "name": "customers_and_orders.ipynb",
      "provenance": []
    },
    "kernelspec": {
      "display_name": "Python 3 (ipykernel)",
      "language": "python",
      "name": "python3"
    },
    "language_info": {
      "codemirror_mode": {
        "name": "ipython",
        "version": 3
      },
      "file_extension": ".py",
      "mimetype": "text/x-python",
      "name": "python",
      "nbconvert_exporter": "python",
      "pygments_lexer": "ipython3",
      "version": "3.9.9"
    }
  },
  "nbformat": 4,
  "nbformat_minor": 0
}